{
 "cells": [
  {
   "cell_type": "markdown",
   "id": "cc3085ed-c700-476f-a3c6-96ceb11205ba",
   "metadata": {},
   "source": [
    "# VSB Power Line Fault Detection (Kaggle Case Study)"
   ]
  },
  {
   "cell_type": "markdown",
   "id": "f91feada-6d3f-490f-8c81-b8a1614f7bd8",
   "metadata": {},
   "source": [
    "Link to the Dataset: https://www.kaggle.com/competitions/vsb-power-line-fault-detection/overview"
   ]
  },
  {
   "cell_type": "markdown",
   "id": "c6df0a2e-51c4-47e1-a970-065e48e4b3d6",
   "metadata": {},
   "source": [
    "### Problem Description\n",
    "\n",
    "Faults in electric transmission lines can lead to a destructive phenomenon called partial discharge.\n",
    "If left alone, partial discharges can damage equipment to the point that it stops functioning entirely. Your challenge is to detect partial discharges so that repairs can be made before any lasting harm occurs.\n",
    "\n",
    "Each signal contains 800,000 measurements of a power line's voltage, taken over 20 milliseconds. As the underlying electric grid operates at 50 Hz, this means each signal covers a single complete grid cycle. The grid itself operates on a 3-phase power scheme, and all three phases are measured simultaneously."
   ]
  },
  {
   "cell_type": "markdown",
   "id": "e3c3a9f4-0263-4a93-b7b4-c790dbefbf17",
   "metadata": {},
   "source": [
    "### File Descriptions\n",
    "1. metadata_[train/test].csv\n",
    "\n",
    "* id_measurement: the ID code for a trio of signals recorded at the same time.\n",
    "* signal_id: the foreign key for the signal data. Each signal ID is unique across both train and test, so the first ID in train is '0' but the first ID in test is '8712'.\n",
    "* phase: the phase ID code within the signal trio. The phases may or may not all be impacted by a fault on the line.\n",
    "* target: 0 if the power line is undamaged, 1 if there is a fault.\n",
    "2. [train/test].parquet - The signal data. Each column contains one signal; 800,000 int8 measurements as exported with pyarrow.parquet version 0.11. "
   ]
  },
  {
   "cell_type": "markdown",
   "id": "b3c736e5-1820-4e33-903b-7c4bbaa38595",
   "metadata": {},
   "source": [
    "### Objective\n",
    "Detect partial discharge patterns in power line signals using ML classifiers. Reduce maintenance costs and prevent outages through automated monitoring"
   ]
  },
  {
   "cell_type": "markdown",
   "id": "b5f9768f-ae54-4fd0-b046-926113206a5e",
   "metadata": {},
   "source": [
    "## Exploratory Data Analysis"
   ]
  },
  {
   "cell_type": "code",
   "execution_count": null,
   "id": "bdf60dec-f87a-4b38-b07e-03f5c703ae70",
   "metadata": {},
   "outputs": [],
   "source": [
    "import matplotlib.pyplot as plt\n",
    "import seaborn as sns\n",
    "import numpy as np\n",
    "import pandas as pd\n",
    "from scipy import stats\n",
    "from scipy.stats import zscore\n",
    "from sklearn.ensemble import IsolationForest\n",
    "from sklearn.cluster import DBSCAN\n",
    "from sklearn.preprocessing import StandardScaler\n",
    "from sklearn.decomposition import PCA\n",
    "import pyarrow.parquet as pq\n",
    "from scipy import signal\n",
    "from scipy.fft import fft, fftfreq\n",
    "import plotly.graph_objects as go\n",
    "import plotly.subplots as sp\n",
    "from plotly.subplots import make_subplots\n",
    "import warnings\n",
    "warnings.filterwarnings('ignore')"
   ]
  },
  {
   "cell_type": "code",
   "execution_count": null,
   "id": "33810e15-3ed0-455a-936b-232860099a8e",
   "metadata": {},
   "outputs": [],
   "source": [
    "DATA_PATH = r'./data/vsb-power-line-fault-detection/'\n",
    "CHUNK_SIZE = 1000\n",
    "SAMPLE_SIZE=1000"
   ]
  },
  {
   "cell_type": "code",
   "execution_count": null,
   "id": "24b5e4b6-5b56-440f-b059-aa5e25b4be8c",
   "metadata": {},
   "outputs": [],
   "source": [
    "metadata_df  = pd.read_csv(f\"{DATA_PATH}/metadata_train.csv\")"
   ]
  },
  {
   "cell_type": "code",
   "execution_count": null,
   "id": "b7749a6e-6c4c-4063-ad14-faae5ea6c496",
   "metadata": {},
   "outputs": [],
   "source": [
    "metadata_df.shape"
   ]
  },
  {
   "cell_type": "markdown",
   "id": "2a6536ac-b619-42c1-8e24-c7e5502d2762",
   "metadata": {},
   "source": [
    "#### Visualizing Target Distribution"
   ]
  },
  {
   "cell_type": "code",
   "execution_count": null,
   "id": "dbe8afbd-5c7c-45b8-bada-5a236e17f5fb",
   "metadata": {},
   "outputs": [],
   "source": [
    "%matplotlib inline\n",
    "plt.figure(figsize=(8, 6))\n",
    "ax = sns.countplot(data = metadata_df, x='target', palette=\"viridis\")\n",
    "total = len(metadata_df)\n",
    "\n",
    "# Add percentage labels to the bars\n",
    "for p in ax.patches:\n",
    "    percentage = '{:.1f}%'.format(100 * p.get_height() / total)\n",
    "    x = p.get_x() + p.get_width() / 2\n",
    "    y = p.get_height()\n",
    "    ax.annotate(percentage, (x, y), ha='center', va='bottom')\n",
    "    \n",
    "plt.title('Target Distribution')\n",
    "plt.xlabel('Target')\n",
    "plt.ylabel('Count')\n",
    "plt.show()"
   ]
  },
  {
   "cell_type": "code",
   "execution_count": null,
   "id": "84d107c8-56eb-4b1b-893d-8cc556c8478d",
   "metadata": {},
   "outputs": [],
   "source": [
    "metadata_df['target'].value_counts()"
   ]
  },
  {
   "cell_type": "markdown",
   "id": "626be5f2-aa36-4ba0-bf91-31fe1d4fe921",
   "metadata": {},
   "source": [
    "#### We have an imbalanced dataset with 6% positive targets (faults)"
   ]
  },
  {
   "cell_type": "code",
   "execution_count": null,
   "id": "28e94dc4-c5eb-431b-87a4-65ec5473b399",
   "metadata": {},
   "outputs": [],
   "source": [
    "train_path = f\"{DATA_PATH}/train.parquet\"\n",
    "test_path = f\"{DATA_PATH}/test.parquet\""
   ]
  },
  {
   "cell_type": "code",
   "execution_count": null,
   "id": "5c163b37-fbb4-4f59-862b-9485a6d5d49e",
   "metadata": {},
   "outputs": [],
   "source": [
    "%%time \n",
    "signals_df = pd.read_parquet(train_path, engine='fastparquet')"
   ]
  },
  {
   "cell_type": "code",
   "execution_count": null,
   "id": "7a0ea94b-2574-4119-8910-d886e18f51af",
   "metadata": {},
   "outputs": [],
   "source": [
    "signals_df.shape"
   ]
  },
  {
   "cell_type": "code",
   "execution_count": null,
   "id": "28cab4e5-e98c-4ac0-9ee1-7d5d086d2d47",
   "metadata": {},
   "outputs": [],
   "source": [
    "sampling_rate = signals_df.shape[0]"
   ]
  },
  {
   "cell_type": "markdown",
   "id": "9231a24f-d585-47b5-b35e-34aa3c5f9879",
   "metadata": {},
   "source": [
    "### Missing Data"
   ]
  },
  {
   "cell_type": "code",
   "execution_count": null,
   "id": "0d6ef643-f073-4e7a-acd9-dd273f47ea01",
   "metadata": {},
   "outputs": [],
   "source": [
    "signal_missing = signals_df.isnull().sum()\n",
    "signal_missing_pct = (signal_missing / len(signals_df)) * 100\n",
    "\n",
    "total_missing_signals = signal_missing.sum()\n",
    "total_cells_signals = signals_df.shape[0] * signals_df.shape[1]\n",
    "overall_missing_pct_signals = (total_missing_signals / total_cells_signals) * 100\n",
    "\n",
    "print(f\"Signal Data Shape: {signals_df.shape}\")\n",
    "print(f\"Total Missing Values: {total_missing_signals:,}\")\n",
    "print(f\"Total Cells: {total_cells_signals:,}\")\n",
    "print(f\"Overall Missing Percentage: {overall_missing_pct_signals:.4f}%\")"
   ]
  },
  {
   "cell_type": "code",
   "execution_count": null,
   "id": "fa90e886-0329-4a29-aaa3-b6c5d9214e66",
   "metadata": {},
   "outputs": [],
   "source": [
    "signals_df.head()"
   ]
  },
  {
   "cell_type": "markdown",
   "id": "8d7ee093-c262-4ec7-a854-77c24fe42454",
   "metadata": {},
   "source": [
    "### Visualizing Sample Signals"
   ]
  },
  {
   "cell_type": "code",
   "execution_count": null,
   "id": "e8833181-d415-4053-92ed-1a463f2dddbf",
   "metadata": {},
   "outputs": [],
   "source": [
    "n_signals = 10\n",
    "signal_ids = np.random.choice(signals_df.columns, n_signals, replace=False)\n",
    "time_axis = np.linspace(0, 1, len(signals_df))            \n",
    "fig, axes = plt.subplots(n_signals//2, 2, figsize=(15, 12))\n",
    "axes = axes.flatten() if n_signals > 2 else [axes]\n",
    "\n",
    "for i, sig_id in enumerate(signal_ids):\n",
    "    if i >= len(axes):\n",
    "        break\n",
    "        \n",
    "    signal_data = signals_df[str(sig_id)]\n",
    "    \n",
    "    # Get target label if available\n",
    "    target_label = \"Unknown\"\n",
    "    if metadata_df is not None and str(sig_id) in metadata_df['signal_id'].astype(str).values:\n",
    "        target = metadata_df[metadata_df['signal_id'].astype(str) == str(sig_id)]['target'].iloc[0]\n",
    "        target_label = \"Fault\" if target == 1 else \"Normal\"\n",
    "    \n",
    "    axes[i].plot(time_axis, signal_data, linewidth=0.8)\n",
    "    axes[i].set_title(f'Signal {sig_id} - {target_label}')\n",
    "    axes[i].set_xlabel('Time (seconds)')\n",
    "    axes[i].set_ylabel('Amplitude')\n",
    "    axes[i].grid(True, alpha=0.3)\n",
    "    \n",
    "    # Add basic stats to plot\n",
    "    axes[i].text(0.02, 0.98, f'Mean: {signal_data.mean():.4f}\\nStd: {signal_data.std():.4f}', \n",
    "                transform=axes[i].transAxes, verticalalignment='top',\n",
    "                bbox=dict(boxstyle='round', facecolor='wheat', alpha=0.5))\n",
    "\n",
    "plt.tight_layout()\n",
    "plt.suptitle('Sample Power Line Signals', y=1.02, fontsize=16)\n",
    "plt.show()"
   ]
  },
  {
   "cell_type": "markdown",
   "id": "a2d0c9d5-62d7-4dd9-b4c2-2993ac9d66db",
   "metadata": {},
   "source": [
    "#### Visualizing Fault Signals"
   ]
  },
  {
   "cell_type": "code",
   "execution_count": null,
   "id": "4a75ed5a-8838-43be-993a-a5cc5b398b38",
   "metadata": {},
   "outputs": [],
   "source": [
    "positive_signal_ids = metadata_df.loc[metadata_df['target']==1].signal_id.unique()[:10]"
   ]
  },
  {
   "cell_type": "code",
   "execution_count": null,
   "id": "1e108af3-db9e-4090-9b1b-ec332cbfdaeb",
   "metadata": {},
   "outputs": [],
   "source": [
    "signal_ids = positive_signal_ids\n",
    "fig, axes = plt.subplots(n_signals//2, 2, figsize=(15, 12))\n",
    "axes = axes.flatten() if n_signals > 2 else [axes]\n",
    "\n",
    "for i, sig_id in enumerate(signal_ids):\n",
    "    if i >= len(axes):\n",
    "        break\n",
    "        \n",
    "    signal_data = signals_df[str(sig_id)]\n",
    "    \n",
    "    # Get target label if available\n",
    "    target_label = \"Unknown\"\n",
    "    if metadata_df is not None and str(sig_id) in metadata_df['signal_id'].astype(str).values:\n",
    "        target = metadata_df[metadata_df['signal_id'].astype(str) == str(sig_id)]['target'].iloc[0]\n",
    "        target_label = \"Fault\" if target == 1 else \"Normal\"\n",
    "    \n",
    "    axes[i].plot(time_axis, signal_data, linewidth=0.8)\n",
    "    axes[i].set_title(f'Signal {sig_id} - {target_label}')\n",
    "    axes[i].set_xlabel('Time (seconds)')\n",
    "    axes[i].set_ylabel('Amplitude')\n",
    "    axes[i].grid(True, alpha=0.3)\n",
    "    \n",
    "    # Add basic stats to plot\n",
    "    axes[i].text(0.02, 0.98, f'Mean: {signal_data.mean():.4f}\\nStd: {signal_data.std():.4f}', \n",
    "                transform=axes[i].transAxes, verticalalignment='top',\n",
    "                bbox=dict(boxstyle='round', facecolor='wheat', alpha=0.5))\n",
    "\n",
    "plt.tight_layout()\n",
    "plt.suptitle('Sample Power Line Signals', y=1.02, fontsize=16)\n",
    "plt.show()"
   ]
  },
  {
   "cell_type": "markdown",
   "id": "64238fea-ec66-445d-bd4b-de7237847a5e",
   "metadata": {},
   "source": [
    "* Fault signals show high variability and display diverse characteristics - from high-frequency noise (Signals 3,5) to dramatic spikes (Signal 228 with ±100 amplitude excursions) to gradual trends (Signal 202), indicating different types of electrical faults.\n",
    "* Standard deviation shows consistently higher for fault signals between 12-15\n",
    "* Extreme amplitude events are common for fault signals with sharp transient spikes (Signal 4 at 0.2s, Signal 228's massive spikes)\n",
    "* __Peak detection and amplitude threshold features could be great discriminative features__"
   ]
  },
  {
   "cell_type": "markdown",
   "id": "1488acc5-fc3e-4ca6-a48b-409092001bfb",
   "metadata": {},
   "source": [
    "### Normal and Fault Signal Comparison"
   ]
  },
  {
   "cell_type": "code",
   "execution_count": null,
   "id": "0ebf98a8-de82-454e-9f3a-f9acfe45a0e9",
   "metadata": {},
   "outputs": [],
   "source": [
    "normal_signals = metadata_df[metadata_df['target'] == 0]['signal_id'].sample(3).tolist()\n",
    "fault_signals = metadata_df[metadata_df['target'] == 1]['signal_id'].sample(3).tolist()"
   ]
  },
  {
   "cell_type": "code",
   "execution_count": null,
   "id": "b9b496de-ddbd-48a7-9122-6e8c511f04d5",
   "metadata": {},
   "outputs": [],
   "source": [
    "fig, axes = plt.subplots(2, 3, figsize=(15, 8))\n",
    "\n",
    "# Plot normal signals\n",
    "for i, sig_id in enumerate(normal_signals[:3]):\n",
    "    if str(sig_id) in signals_df.columns:\n",
    "        signal_data = signals_df[str(sig_id)]\n",
    "        axes[0, i].plot(time_axis, signal_data, color='green', alpha=0.8)\n",
    "        axes[0, i].set_title(f'Normal Signal {sig_id}')\n",
    "        axes[0, i].set_ylabel('Amplitude')\n",
    "        axes[0, i].grid(True, alpha=0.3)\n",
    "\n",
    "# Plot fault signals\n",
    "for i, sig_id in enumerate(fault_signals[:3]):\n",
    "    if str(sig_id) in signals_df.columns:\n",
    "        signal_data = signals_df[str(sig_id)]\n",
    "        axes[1, i].plot(time_axis, signal_data, color='red', alpha=0.8)\n",
    "        axes[1, i].set_title(f'Fault Signal {sig_id}')\n",
    "        axes[1, i].set_xlabel('Time (seconds)')\n",
    "        axes[1, i].set_ylabel('Amplitude')\n",
    "        axes[1, i].grid(True, alpha=0.3)\n",
    "\n",
    "plt.tight_layout()\n",
    "plt.suptitle('Normal vs Fault Signal Comparison', y=1.02, fontsize=16)\n",
    "plt.show()"
   ]
  },
  {
   "cell_type": "markdown",
   "id": "4861b3be-cc91-4b8c-8f68-0836b9527e90",
   "metadata": {},
   "source": [
    "* Normal signals show smooth, predictable waveforms  which are clean sinusoidal or wave-like patterns with consistent amplitude ranges (±20 to ±30), while some show occasional sharp spikes but overall consistent.\n",
    "    \n",
    "* Fault signals exhibit extreme noise and chaos with high-frequency noise, irregular amplitude variations, and completely disrupted waveforms\n",
    "\n",
    "* Amplitude ranges clearly distinguish normal and fault signals. Normal signals stay within bounds, while fault signals show much wider amplitude excursions (up to ±80 in some cases) and high-frequency noises throughout the entire signal duration\n",
    "\n",
    "* __Noise level  and amplitude variance could be highly discriminative features__"
   ]
  },
  {
   "cell_type": "markdown",
   "id": "83f9da27-0dd2-4c93-b979-230917fea755",
   "metadata": {},
   "source": [
    "### Frequency Domain Analysis"
   ]
  },
  {
   "cell_type": "code",
   "execution_count": null,
   "id": "d33043f1-49b8-497f-9df0-8c9680715626",
   "metadata": {},
   "outputs": [],
   "source": [
    "n_signals = 4\n",
    "signal_ids = np.random.choice(signals_df.columns, n_signals, replace=False)\n",
    "targets = (\n",
    "    metadata_df.set_index(\"signal_id\")\n",
    "    .loc[list(map(int, signal_ids)), \"target\"]\n",
    "    .map({1: \"Fault\", 0: \"Normal\"})\n",
    "    .tolist()\n",
    ")\n",
    "fig, axes = plt.subplots(2, 2, figsize=(15,10))\n",
    "        \n",
    "for i, sig_id in enumerate(signal_ids):\n",
    "    if i >= 4:\n",
    "        break\n",
    "        \n",
    "    row, col = i // 2, i % 2\n",
    "    signal_data = signals_df[str(sig_id)]\n",
    "    \n",
    "    # Compute FFT\n",
    "    fft_vals = fft(signal_data)\n",
    "    fft_freq = fftfreq(len(signal_data), 1/sampling_rate)\n",
    "    \n",
    "    # Plot only positive frequencies\n",
    "    positive_freq_mask = fft_freq > 0\n",
    "    frequencies = fft_freq[positive_freq_mask]\n",
    "    magnitudes = np.abs(fft_vals[positive_freq_mask])\n",
    "    \n",
    "    axes[row, col].loglog(frequencies, magnitudes,color = 'green')\n",
    "    axes[row, col].set_title(f'Frequency Spectrum - {targets[i]} Signal {sig_id} ')\n",
    "    axes[row, col].set_xlabel('Frequency (Hz)')\n",
    "    axes[row, col].set_ylabel('Magnitude')\n",
    "    axes[row, col].grid(True, alpha=0.3)\n",
    "    \n",
    "    # Mark dominant frequencies\n",
    "    dominant_freq_idx = np.argmax(magnitudes[frequencies < sampling_rate/4])  # Avoid aliasing\n",
    "    dominant_freq = frequencies[dominant_freq_idx]\n",
    "    axes[row, col].axvline(dominant_freq, color='red', linestyle='--', alpha=0.7, \n",
    "                         label=f'Peak: {dominant_freq:.1f} Hz')\n",
    "    axes[row, col].legend()\n",
    "\n",
    "plt.tight_layout()\n",
    "plt.suptitle('Frequency Domain Analysis', y=1.02, fontsize=16)\n",
    "plt.show()"
   ]
  },
  {
   "cell_type": "markdown",
   "id": "e875e0a8-8dd4-4c04-9916-15984cb812ee",
   "metadata": {},
   "source": [
    "#### Fault Signal Frequency Domain"
   ]
  },
  {
   "cell_type": "code",
   "execution_count": null,
   "id": "8f575d19-5821-4de1-a5b6-403289135bb4",
   "metadata": {},
   "outputs": [],
   "source": [
    "n_signals = 4\n",
    "positive_signal_ids = metadata_df.loc[metadata_df['target']==1].signal_id.unique()[:10]\n",
    "signal_ids = positive_signal_ids\n",
    "\n",
    "targets = (\n",
    "    metadata_df.set_index(\"signal_id\")\n",
    "    .loc[list(map(int, signal_ids)), \"target\"]\n",
    "    .map({1: \"Fault\", 0: \"Normal\"})\n",
    "    .tolist()\n",
    ")\n",
    "\n",
    "fig, axes = plt.subplots(2, 2, figsize=(15,10))\n",
    "        \n",
    "for i, sig_id in enumerate(signal_ids):\n",
    "    if i >= 4:\n",
    "        break\n",
    "        \n",
    "    row, col = i // 2, i % 2\n",
    "    signal_data = signals_df[str(sig_id)]\n",
    "    \n",
    "    # Compute FFT\n",
    "    fft_vals = fft(signal_data)\n",
    "    fft_freq = fftfreq(len(signal_data), 1/sampling_rate)\n",
    "    \n",
    "    # Plot only positive frequencies\n",
    "    positive_freq_mask = fft_freq > 0\n",
    "    frequencies = fft_freq[positive_freq_mask]\n",
    "    magnitudes = np.abs(fft_vals[positive_freq_mask])\n",
    "    \n",
    "    axes[row, col].loglog(frequencies, magnitudes, color='red')\n",
    "    axes[row, col].set_title(f'Frequency Spectrum - {targets[i]} Signal {sig_id}')\n",
    "    axes[row, col].set_xlabel('Frequency (Hz)')\n",
    "    axes[row, col].set_ylabel('Magnitude')\n",
    "    axes[row, col].grid(True, alpha=0.3)\n",
    "    \n",
    "    # Mark dominant frequencies\n",
    "    dominant_freq_idx = np.argmax(magnitudes[frequencies < sampling_rate/4])  # Avoid aliasing\n",
    "    dominant_freq = frequencies[dominant_freq_idx]\n",
    "    axes[row, col].axvline(dominant_freq, color='blue', linestyle='--', alpha=0.7, \n",
    "                         label=f'Peak: {dominant_freq:.1f} Hz')\n",
    "    axes[row, col].legend()\n",
    "\n",
    "plt.tight_layout()\n",
    "plt.suptitle('Frequency Domain Analysis', y=1.02, fontsize=16)\n",
    "plt.show()"
   ]
  },
  {
   "cell_type": "markdown",
   "id": "3b464090-fa81-4c92-b6fd-9e5e93929fe4",
   "metadata": {},
   "source": [
    "* All signals show dominant low-frequency peaks around 1.0 Hz\n",
    "* Fault signal (2906) exhibits noticeably lower overall magnitude and flatter frequency response compared to the three normal signals.\n",
    "* Normal signals maintain higher energy levels across most frequency bands and show more pronounced spectral peaks, while the fault signal appears more attenuated and lacks the robust frequency characteristics of healthy power line operation.\n",
    "* Spectral energy ratios, dominant frequency magnitudes, and frequency band power distributions will be valuable features for distinguishing between normal and fault conditions."
   ]
  },
  {
   "cell_type": "markdown",
   "id": "3d786e0d-6502-47dd-a9e2-7acecb5f938b",
   "metadata": {},
   "source": [
    "### Statistical Analysis and Visualization of Sample Signals"
   ]
  },
  {
   "cell_type": "code",
   "execution_count": null,
   "id": "60d35103-2bcc-4a31-b834-8f4317d051ee",
   "metadata": {},
   "outputs": [],
   "source": [
    "# Calculate statistics for all signals\n",
    "sample_df = signals_df.iloc[:,500:1000]\n",
    "signal_stats = pd.DataFrame({\n",
    "    'mean': sample_df.mean(),\n",
    "    'std': sample_df.std(),\n",
    "    'min': sample_df.min(),\n",
    "    'max': sample_df.max(),\n",
    "    'skewness': sample_df.skew(),\n",
    "    'kurtosis': sample_df.kurtosis()\n",
    "})\n",
    "\n",
    "# Add target labels if available\n",
    "signal_ids = signal_stats.index.astype(int)\n",
    "targets = []\n",
    "for sig_id in signal_ids:\n",
    "    if sig_id in metadata_df['signal_id'].values:\n",
    "        target = metadata_df[metadata_df['signal_id'] == sig_id]['target'].iloc[0]\n",
    "        targets.append('Fault' if target == 1 else 'Normal')\n",
    "    else:\n",
    "        targets.append('Unknown')\n",
    "signal_stats['target'] = targets\n",
    "\n",
    "# Create subplots\n",
    "fig, axes = plt.subplots(2, 3, figsize=(15,12))\n",
    "axes = axes.flatten()\n",
    "\n",
    "stats_to_plot = ['mean', 'std', 'min', 'max', 'skewness', 'kurtosis']\n",
    "\n",
    "for i, stat in enumerate(stats_to_plot):\n",
    "    if metadata_df is not None and 'target' in signal_stats.columns:\n",
    "        # Plot distributions by target class\n",
    "        for target_class in signal_stats['target'].unique():\n",
    "            if target_class != 'Unknown':\n",
    "                data = signal_stats[signal_stats['target'] == target_class][stat]\n",
    "                axes[i].hist(data, alpha=0.7, label=target_class, bins=30)\n",
    "        axes[i].legend()\n",
    "    else:\n",
    "        axes[i].hist(signal_stats[stat], bins=30, alpha=0.7)\n",
    "    \n",
    "    axes[i].set_title(f'Distribution of {stat.capitalize()}')\n",
    "    axes[i].set_xlabel(stat.capitalize())\n",
    "    axes[i].set_ylabel('Frequency')\n",
    "    axes[i].grid(True, alpha=0.3)\n",
    "\n",
    "plt.tight_layout()\n",
    "plt.suptitle('Statistical Distributions of Signal Properties for a Sample of 500 Signals', y=1.02, fontsize=16)\n",
    "plt.show()"
   ]
  },
  {
   "cell_type": "markdown",
   "id": "a49571c7-11fa-4a0c-a613-7dc1bd54f174",
   "metadata": {},
   "source": [
    "* Mean Distribution: Normal signals cluster tightly around -1.5 to -0.5, while fault signals scatter across wider ranges as outliers. This indicates faults cause baseline shifts in electrical signals, making mean values a useful but moderate discriminator.\n",
    "  \n",
    "* Standard Deviation Distribution: Normal signals form a sharp peak around 15, while fault signals spread wider with different variability patterns. This shows the highest discrimination potential, as normal operation has very consistent signal variability.\n",
    "  \n",
    "* Minimum Values Distribution: Normal signals show two distinct clusters (-20 and -60), while fault signals appear scattered throughout these ranges. Fault signals can cause unusual minimum excursions beyond normal operational boundaries.\n",
    "\n",
    "* Maximum Values Distribution: Normal signals concentrate sharply around 20-30, while fault signals extend to extreme values (120+). This reveals clear fault signatures through dramatic voltage/current spikes during electrical faults.\n",
    "  \n",
    "* Skewness Distribution: Normal signals cluster around 0 (symmetric), while fault signals scatter with higher skewness values.\n",
    "\n",
    "* Kurtosis Distribution: Normal signals cluster around 0, while fault signals show extreme outliers with high kurtosis (40+). \n",
    "  \n",
    "__Inference__\n",
    "\n",
    "* Standard deviation and maximum values are the most discriminative features, showing the clearest separation between normal and fault classes with minimal overlap\n",
    "* Combination of multiple statistical measures will be highly effective, since normal signals cluster tightly in ALL metrics while fault signals deviate across multiple measures simultaneously\n",
    "* Simple threshold-based detection could work well due to clear separation points (e.g., std > 16, max > 50), making this suitable for real-time monitoring with low computational overhead"
   ]
  },
  {
   "cell_type": "markdown",
   "id": "e0180a47-bbe5-46dd-a851-40a430b81af3",
   "metadata": {},
   "source": [
    "### Outlier Analysis"
   ]
  },
  {
   "cell_type": "code",
   "execution_count": null,
   "id": "7a940d61-3886-4a39-941b-fd757934f253",
   "metadata": {},
   "outputs": [],
   "source": [
    "# Sample signals for analysis\n",
    "sample_size=100\n",
    "sample_signals = signals_df.sample(n=min(sample_size, len(signals_df.columns)), axis=1)\n",
    "\n",
    "# Calculate basic statistics for each signal\n",
    "signal_stats = pd.DataFrame({\n",
    "    'signal_id': sample_signals.columns,\n",
    "    'mean': sample_signals.mean(),\n",
    "    'std': sample_signals.std(), \n",
    "    'min': sample_signals.min(),\n",
    "    'max': sample_signals.max(),\n",
    "    'range': sample_signals.max() - sample_signals.min()\n",
    "})\n",
    "metadata_df_copy=metadata_df.copy()\n",
    "metadata_df_copy['signal_id']=metadata_df_copy['signal_id'].astype(str)\n",
    "# Add target labels \n",
    "signal_stats = signal_stats.merge(\n",
    "            metadata_df_copy[['signal_id', 'target']], \n",
    "            left_on='signal_id', right_on='signal_id', \n",
    "            how='left'\n",
    "        )\n",
    "colors = ['red' if t == 1 else 'green' if t == 0 else 'gray' for t in signal_stats['target']]\n",
    "labels = ['Fault' if t == 1 else 'Normal' if t == 0 else 'Unknown' for t in signal_stats['target']]"
   ]
  },
  {
   "cell_type": "code",
   "execution_count": null,
   "id": "64885fcf-d35e-4fe0-8607-1016a058d68e",
   "metadata": {},
   "outputs": [],
   "source": [
    "fig, axes = plt.subplots(2, 3, figsize=(15, 10))\n",
    "axes = axes.flatten()\n",
    "\n",
    "# 1. Box plot for standard deviations\n",
    "axes[0].boxplot(signal_stats['std'], vert=True)\n",
    "axes[0].set_title('Signal Standard Deviation\\nBox Plot')\n",
    "axes[0].set_ylabel('Standard Deviation')\n",
    "axes[0].grid(True, alpha=0.3)\n",
    "\n",
    "# Add outlier threshold lines\n",
    "Q1 = signal_stats['std'].quantile(0.25)\n",
    "Q3 = signal_stats['std'].quantile(0.75)\n",
    "IQR = Q3 - Q1\n",
    "upper_outlier = Q3 + 1.5 * IQR\n",
    "lower_outlier = Q1 - 1.5 * IQR\n",
    "axes[0].axhline(y=upper_outlier, color='red', linestyle='--', alpha=0.7, label=f'Upper threshold: {upper_outlier:.2f}')\n",
    "axes[0].axhline(y=lower_outlier, color='red', linestyle='--', alpha=0.7, label=f'Lower threshold: {lower_outlier:.2f}')\n",
    "axes[0].legend(fontsize=8)\n",
    "\n",
    "# 2. Scatter plot: Mean vs Std\n",
    "axes[1].scatter(signal_stats['mean'], signal_stats['std'], c=colors, alpha=0.6, s=30)\n",
    "axes[1].set_xlabel('Signal Mean')\n",
    "axes[1].set_ylabel('Signal Standard Deviation')\n",
    "axes[1].set_title('Mean vs Standard Deviation')\n",
    "axes[1].grid(True, alpha=0.3)\n",
    "\n",
    "# 3. Scatter plot: Min vs Max\n",
    "axes[2].scatter(signal_stats['min'], signal_stats['max'], c=colors, alpha=0.6, s=30)\n",
    "axes[2].set_xlabel('Signal Minimum')\n",
    "axes[2].set_ylabel('Signal Maximum') \n",
    "axes[2].set_title('Min vs Max Values')\n",
    "axes[2].grid(True, alpha=0.3)\n",
    "\n",
    "# 4. Z-score outlier detection\n",
    "z_scores = np.abs(zscore(signal_stats[['mean', 'std', 'range']]))\n",
    "outlier_mask = (z_scores > 3).any(axis=1)\n",
    "\n",
    "outlier_counts = [\n",
    "    np.sum(~outlier_mask),  # Normal\n",
    "    np.sum(outlier_mask)    # Outliers\n",
    "]\n",
    "\n",
    "axes[3].pie(outlier_counts, labels=['Normal', 'Outliers'], autopct='%1.1f%%', \n",
    "           colors=['green', 'salmon'])\n",
    "axes[3].set_title(f'Z-Score Outliers\\n(threshold = 3)')\n",
    "\n",
    "# 5. Isolation Forest outlier detection\n",
    "iso_forest = IsolationForest(contamination=0.1, random_state=42)\n",
    "features = signal_stats[['mean', 'std', 'min', 'max', 'range']].fillna(0)\n",
    "outlier_preds = iso_forest.fit_predict(features)\n",
    "outlier_scores = iso_forest.decision_function(features)\n",
    "\n",
    "outlier_colors = ['red' if pred == -1 else 'green' for pred in outlier_preds]\n",
    "axes[4].scatter(range(len(outlier_scores)), outlier_scores, c=outlier_colors, alpha=0.6, s=30)\n",
    "axes[4].axhline(y=0, color='black', linestyle='--', alpha=0.5, label='Decision boundary')\n",
    "axes[4].set_xlabel('Signal Index')\n",
    "axes[4].set_ylabel('Outlier Score')\n",
    "axes[4].set_title('Isolation Forest Outlier Scores')\n",
    "axes[4].grid(True, alpha=0.3)\n",
    "axes[4].legend()\n",
    "# 6. Summary statistics\n",
    "axes[5].axis('off')\n",
    "\n",
    "# Calculate summary stats\n",
    "n_zscore_outliers = np.sum(outlier_mask)\n",
    "n_isolation_outliers = np.sum(outlier_preds == -1)\n",
    "\n",
    "summary_text = f\"\"\"OUTLIER DETECTION SUMMARY\n",
    "\n",
    "Dataset Info:\n",
    "• Total signals analyzed: {len(signal_stats)}\n",
    "• Sample from {len(signals_df.columns)} total signals\n",
    "\n",
    "Z-Score Method (threshold=3):\n",
    "• Outliers detected: {n_zscore_outliers}\n",
    "• Percentage: {n_zscore_outliers/len(signal_stats)*100:.1f}%\n",
    "\n",
    "Isolation Forest Method:\n",
    "• Outliers detected: {n_isolation_outliers} \n",
    "• Percentage: {n_isolation_outliers/len(signal_stats)*100:.1f}%\n",
    "\n",
    "Signal Statistics:\n",
    "• Mean std dev: {signal_stats['std'].mean():.2f}\n",
    "• Mean range: {signal_stats['range'].mean():.2f}\n",
    "\"\"\"\n",
    "    \n",
    "if metadata_df is not None:\n",
    "    fault_signals = signal_stats[signal_stats['target'] == 1]\n",
    "    normal_signals = signal_stats[signal_stats['target'] == 0]\n",
    "    \n",
    "    if len(fault_signals) > 0 and len(normal_signals) > 0:\n",
    "        summary_text += f\"\"\"\n",
    "Target Distribution:\n",
    "• Normal signals: {len(normal_signals)}\n",
    "• Fault signals: {len(fault_signals)}\n",
    "• Fault rate: {len(fault_signals)/len(signal_stats)*100:.1f}%\n",
    "\n",
    "Fault vs Normal Stats:\n",
    "• Normal avg std: {normal_signals['std'].mean():.2f}\n",
    "• Fault avg std: {fault_signals['std'].mean():.2f}\n",
    "\"\"\"\n",
    "\n",
    "axes[5].text(0.05, 0.95, summary_text, transform=axes[5].transAxes, \n",
    "            fontsize=10, verticalalignment='top', fontfamily='monospace')\n",
    "\n",
    "plt.tight_layout()\n",
    "plt.suptitle('Power Line Signal Outlier Detection', y=1.02, fontsize=16)\n",
    "plt.show()\n"
   ]
  },
  {
   "cell_type": "markdown",
   "id": "79174802-ecfe-4e1d-b6a6-6450b968683b",
   "metadata": {},
   "source": [
    "##### Z-Score method: Detected only 1% outliers , Isolation Forest: Detected 10%,  Actual : 5% Fault signals\n",
    "\n",
    "* Avoid Z-Score alone: Too conservative for fault detection in power systems\n",
    "* Use Isolation Forest: Better captures multivariate anomalies in signal behavior"
   ]
  },
  {
   "cell_type": "markdown",
   "id": "1ebe833c-f0eb-47f4-a947-d2e63e035460",
   "metadata": {},
   "source": [
    "### Visualizing Outliers signals captured with Zscore and Isolation Forest"
   ]
  },
  {
   "cell_type": "code",
   "execution_count": null,
   "id": "bf9a383a-0e3a-45a8-8334-b8903bcc4f19",
   "metadata": {},
   "outputs": [],
   "source": [
    "# Return outlier information\n",
    "outlier_info = {\n",
    "    'zscore_outliers': signal_stats[outlier_mask]['signal_id'].tolist(),\n",
    "    'isolation_outliers': signal_stats[outlier_preds == -1]['signal_id'].tolist(),\n",
    "    'outlier_scores': outlier_scores\n",
    "}\n",
    "# outlier_info"
   ]
  },
  {
   "cell_type": "markdown",
   "id": "63b39da9-c66b-4b2b-978c-e3097c69475a",
   "metadata": {},
   "source": [
    "#### Zscore Outliers"
   ]
  },
  {
   "cell_type": "code",
   "execution_count": null,
   "id": "74c28ca5-2be3-40ba-816c-c41f81160e32",
   "metadata": {},
   "outputs": [],
   "source": [
    "outlier_signal_ids =outlier_info['zscore_outliers']\n",
    "\n",
    "fig, axes = plt.subplots(2, 1, figsize=(15,8))\n",
    "    \n",
    "# Plot outlier signals\n",
    "n_outliers_to_plot = min(5, len(outlier_signal_ids))\n",
    "normal_signal_ids = normal_signals['signal_id'].astype(str).tolist()\n",
    "time_axis = np.linspace(0, 1, len(signals_df))\n",
    "\n",
    "for i in range(n_outliers_to_plot):\n",
    "    signal_id = outlier_signal_ids[i]\n",
    "    if str(signal_id) in signals_df.columns:\n",
    "        signal_data = signals_df[str(signal_id)]\n",
    "        axes[0].plot(time_axis, signal_data, alpha=0.7, linewidth=1, \n",
    "                    label=f'Outlier {signal_id}')\n",
    "\n",
    "axes[0].set_title('Outlier Signals (Time Domain)')\n",
    "axes[0].set_xlabel('Time (seconds)')\n",
    "axes[0].set_ylabel('Amplitude')\n",
    "axes[0].legend()\n",
    "axes[0].grid(True, alpha=0.3)\n",
    "\n",
    "# Plot normal signals for comparison\n",
    "\n",
    "n_normal_to_plot = min(5, len(normal_signal_ids))\n",
    "for i in range(n_normal_to_plot):\n",
    "    signal_id = normal_signal_ids[i]\n",
    "    if str(signal_id) in signals_df.columns:\n",
    "        signal_data = signals_df[str(signal_id)]\n",
    "        axes[1].plot(time_axis, signal_data, alpha=0.7, linewidth=1,\n",
    "                   label=f'Normal {signal_id}')\n",
    "\n",
    "axes[1].set_title('Normal Signals (Time Domain)')\n",
    "axes[1].set_xlabel('Time (seconds)')\n",
    "axes[1].set_ylabel('Amplitude') \n",
    "axes[1].legend()\n",
    "axes[1].grid(True, alpha=0.3)\n",
    "\n",
    "plt.tight_layout()\n",
    "plt.suptitle('Outlier vs Normal Signal Comparison', y=1.02, fontsize=14)\n",
    "plt.show()"
   ]
  },
  {
   "cell_type": "markdown",
   "id": "b71fcf67-f47d-4e20-b062-7938da1bc2d9",
   "metadata": {},
   "source": [
    "### Isolation Forest Outliers"
   ]
  },
  {
   "cell_type": "code",
   "execution_count": null,
   "id": "1208ac40-e502-48e2-9a45-36ab860b091e",
   "metadata": {},
   "outputs": [],
   "source": [
    "outlier_signal_ids =outlier_info['isolation_outliers']\n",
    "\n",
    "fig, axes = plt.subplots(2, 1, figsize=(15,8))\n",
    "    \n",
    "# Plot outlier signals\n",
    "n_outliers_to_plot = min(5, len(outlier_signal_ids))\n",
    "\n",
    "time_axis = np.linspace(0, 1, len(signals_df))\n",
    "\n",
    "for i in range(n_outliers_to_plot):\n",
    "    signal_id = outlier_signal_ids[i]\n",
    "    if str(signal_id) in signals_df.columns:\n",
    "        signal_data = signals_df[str(signal_id)]\n",
    "        axes[0].plot(time_axis, signal_data, alpha=0.7, linewidth=1, \n",
    "                    label=f'Outlier {signal_id}')\n",
    "\n",
    "axes[0].set_title('Outlier Signals (Time Domain)')\n",
    "axes[0].set_xlabel('Time (seconds)')\n",
    "axes[0].set_ylabel('Amplitude')\n",
    "axes[0].legend()\n",
    "axes[0].grid(True, alpha=0.3)\n",
    "\n",
    "# Plot normal signals for comparison\n",
    "normal_signal_ids = normal_signals['signal_id'].astype(str).tolist()\n",
    "n_normal_to_plot = min(5, len(normal_signal_ids))\n",
    "for i in range(n_normal_to_plot):\n",
    "    signal_id = normal_signal_ids[i]\n",
    "    if str(signal_id) in signals_df.columns:\n",
    "        signal_data = signals_df[str(signal_id)]\n",
    "        axes[1].plot(time_axis, signal_data, alpha=0.7, linewidth=1,\n",
    "                   label=f'Normal {signal_id}')\n",
    "\n",
    "axes[1].set_title('Normal Signals (Time Domain)')\n",
    "axes[1].set_xlabel('Time (seconds)')\n",
    "axes[1].set_ylabel('Amplitude') \n",
    "axes[1].legend()\n",
    "axes[1].grid(True, alpha=0.3)\n",
    "\n",
    "plt.tight_layout()\n",
    "plt.suptitle('Outlier vs Normal Signal Comparison', y=1.02, fontsize=14)\n",
    "plt.show()"
   ]
  },
  {
   "cell_type": "markdown",
   "id": "5aa03720-3655-4856-88ac-b08395b74ec4",
   "metadata": {},
   "source": [
    "#### Outlier Signals (Top Panel):\n",
    "\n",
    "* Show persistent high-amplitude transients throughout the entire signal duration\n",
    "* Exhibit chaotic, unpredictable spike patterns with amplitudes reaching ±100\n",
    "* Display no underlying structural consistency - the baseline waveform is completely disrupted\n",
    "* Demonstrate sustained abnormal behavior rather than isolated events\n",
    "\n",
    "#### Normal Signals (Bottom Panel):\n",
    "\n",
    "* Maintain consistent baseline patterns with occasional sharp spikes\n",
    "* Show predictable underlying structure despite some transient events\n",
    "* Keep controlled amplitude ranges mostly within ±50\n",
    "* Display recoverable behavior - return to baseline after transients"
   ]
  },
  {
   "cell_type": "markdown",
   "id": "53a40805-ae74-4b13-8869-6a456a8b0062",
   "metadata": {},
   "source": [
    "#### Inferences \n",
    "\n",
    "* Use median-based scaling instead of mean-based due to extreme outliers\n",
    "* Decide whether to remove extreme outliers or use them as additional fault examples\n",
    "* Cap extreme values to prevent single outliers from dominating features\n",
    "* True fault detection requires distinguishing between measurement anomalies and actual electrical faults\n"
   ]
  },
  {
   "cell_type": "markdown",
   "id": "c2f2787f-8fd8-400c-9bf9-fef5d4838a6c",
   "metadata": {},
   "source": [
    "### Correlation Analysis"
   ]
  },
  {
   "cell_type": "markdown",
   "id": "38e69bb0-ba20-433d-afc1-abda4fb81046",
   "metadata": {},
   "source": [
    "##### Plot correlation heatmap between signals"
   ]
  },
  {
   "cell_type": "code",
   "execution_count": null,
   "id": "b0c61995-db46-43f6-8059-38433a1cafbd",
   "metadata": {},
   "outputs": [],
   "source": [
    "metadata_df[\"signal_id\"] = metadata_df[\"signal_id\"].astype(str)"
   ]
  },
  {
   "cell_type": "code",
   "execution_count": null,
   "id": "58a41522-3f38-4f65-8615-95ab44ded870",
   "metadata": {},
   "outputs": [],
   "source": [
    "sample_signals = signals_df.sample(n=min(100, len(signals_df.columns)), axis=1)\n",
    "signal_ids = sample_signals.columns\n",
    "targets = (\n",
    "    metadata_df.set_index(\"signal_id\")\n",
    "    .loc[signal_ids, \"target\"]\n",
    "    .map({1: \"Fault\", 0: \"Normal\"})\n",
    "    .tolist()\n",
    ")\n",
    "        \n",
    "# Calculate correlation matrix\n",
    "corr_matrix = sample_signals.corr()\n",
    "\n",
    "# Plot heatmap\n",
    "plt.figure(figsize=(12, 10))\n",
    "mask = np.triu(np.ones_like(corr_matrix, dtype=bool))  # Mask upper triangle\n",
    "sns.heatmap(corr_matrix, mask=mask, cmap='coolwarm', center=0,\n",
    "            square=True, cbar_kws={\"shrink\": .8})\n",
    "plt.title(f'Signal Correlation Heatmap (Sample of {len(sample_signals.columns)} signals)')\n",
    "plt.tight_layout()\n",
    "plt.show()"
   ]
  },
  {
   "cell_type": "markdown",
   "id": "3c72130b-f979-4a27-ab18-fb3e368793e2",
   "metadata": {},
   "source": [
    "* The correlation heatmap shows mostly weak correlations (ranging -0.75 to +0.75) between the 50 sample signals, indicating that power line signals behave quite independently from each other.\n",
    "* __Individual signal features could be more valuable for fault detection than cross-signal relationships__"
   ]
  },
  {
   "cell_type": "markdown",
   "id": "c72ba1e1-e19e-48f8-a5f0-93e497fabecf",
   "metadata": {},
   "source": [
    "### Time Series Patterns "
   ]
  },
  {
   "cell_type": "markdown",
   "id": "02faf28b-3fcb-4845-8c18-bcbb6d837977",
   "metadata": {},
   "source": [
    "##### Analyze time series patterns in a specific signal using sliding windows"
   ]
  },
  {
   "cell_type": "code",
   "execution_count": null,
   "id": "e77de7e9-33c9-496c-9a25-80682da559d5",
   "metadata": {},
   "outputs": [],
   "source": [
    "window_size=1000\n",
    "negative_df=metadata_df.loc[metadata_df.target==0]\n",
    "sample_df = negative_df.sample(n=min(1, len(negative_df.columns)), axis=0)\n",
    "signal_id = str(sample_df['signal_id'].unique()[0])\n",
    "signal_data = signals_df[signal_id]\n",
    "\n",
    "# Create sliding windows\n",
    "n_windows = len(signal_data) // window_size\n",
    "windows = []\n",
    "window_means = []\n",
    "window_stds = []\n",
    "target_val = metadata_df.loc[metadata_df['signal_id']==signal_id]['target'].unique()[0]\n",
    "\n",
    "for i in range(n_windows):\n",
    "    start_idx = i * window_size\n",
    "    end_idx = start_idx + window_size\n",
    "    window = signal_data.iloc[start_idx:end_idx]\n",
    "    windows.append(window)\n",
    "    window_means.append(window.mean())\n",
    "    window_stds.append(window.std())\n",
    "\n",
    "# Plot results\n",
    "fig, axes = plt.subplots(3, 1, figsize=(15,8))\n",
    "\n",
    "# Original signal\n",
    "axes[0].plot(time_axis, signal_data, color = 'green')\n",
    "axes[0].set_title(f'Original Signal {signal_id} with target {target_val}')\n",
    "axes[0].set_ylabel('Amplitude')\n",
    "axes[0].grid(True, alpha=0.3)\n",
    "\n",
    "# Window means\n",
    "window_time = np.arange(n_windows) * window_size / sampling_rate\n",
    "axes[1].plot(window_time, window_means, marker='o', linewidth=2, color = 'green')\n",
    "axes[1].set_title('Window Means Over Time')\n",
    "axes[1].set_ylabel('Mean Amplitude')\n",
    "axes[1].grid(True, alpha=0.3)\n",
    "\n",
    "# Window standard deviations\n",
    "axes[2].plot(window_time, window_stds, marker='s', linewidth=2, color='orange')\n",
    "axes[2].set_title('Window Standard Deviations Over Time')\n",
    "axes[2].set_xlabel('Time (seconds)')\n",
    "axes[2].set_ylabel('Standard Deviation')\n",
    "axes[2].grid(True, alpha=0.3)\n",
    "\n",
    "plt.tight_layout()\n",
    "plt.show()"
   ]
  },
  {
   "cell_type": "markdown",
   "id": "1f7d4630-6b22-4566-a935-3783b6bbf636",
   "metadata": {},
   "source": [
    "##### Time Series analysis for Fault Signal"
   ]
  },
  {
   "cell_type": "code",
   "execution_count": null,
   "id": "b1de81a6-f39c-4659-a861-676d7fbcf118",
   "metadata": {},
   "outputs": [],
   "source": [
    "window_size=1000\n",
    "positive_df=metadata_df.loc[metadata_df.target==1]\n",
    "sample_df = positive_df.sample(n=min(1, len(positive_df.columns)), axis=0)\n",
    "signal_id = str(sample_df['signal_id'].unique()[0])\n",
    "signal_data = signals_df[signal_id]\n",
    "\n",
    "# Create sliding windows\n",
    "n_windows = len(signal_data) // window_size\n",
    "windows = []\n",
    "window_means = []\n",
    "window_stds = []\n",
    "target_val = metadata_df.loc[metadata_df['signal_id']==signal_id]['target'].unique()[0]\n",
    "for i in range(n_windows):\n",
    "    start_idx = i * window_size\n",
    "    end_idx = start_idx + window_size\n",
    "    window = signal_data.iloc[start_idx:end_idx]\n",
    "    windows.append(window)\n",
    "    window_means.append(window.mean())\n",
    "    window_stds.append(window.std())\n",
    "\n",
    "# Plot results\n",
    "fig, axes = plt.subplots(3, 1, figsize=(15,8))\n",
    "\n",
    "# Original signal\n",
    "axes[0].plot(time_axis, signal_data, color = 'red')\n",
    "axes[0].set_title(f'Original Signal {signal_id} with target {target_val}')\n",
    "axes[0].set_ylabel('Amplitude')\n",
    "axes[0].grid(True, alpha=0.3)\n",
    "\n",
    "# Window means\n",
    "window_time = np.arange(n_windows) * window_size / sampling_rate\n",
    "axes[1].plot(window_time, window_means, marker='o', linewidth=2, color = 'red')\n",
    "axes[1].set_title('Window Means Over Time')\n",
    "axes[1].set_ylabel('Mean Amplitude')\n",
    "axes[1].grid(True, alpha=0.3)\n",
    "\n",
    "# Window standard deviations\n",
    "axes[2].plot(window_time, window_stds, marker='s', linewidth=2, color='orange')\n",
    "axes[2].set_title('Window Standard Deviations Over Time')\n",
    "axes[2].set_xlabel('Time (seconds)')\n",
    "axes[2].set_ylabel('Standard Deviation')\n",
    "axes[2].grid(True, alpha=0.3)\n",
    "\n",
    "plt.tight_layout()\n",
    "plt.show()"
   ]
  },
  {
   "cell_type": "markdown",
   "id": "bfc5d8f2-9b72-4ee7-8b23-244aa5875ae5",
   "metadata": {},
   "source": [
    "#### The sliding window analysis shows clear differences between fault and normal signals over time.\n",
    "\n",
    "* Normal signals preserve underlying waveform structure with smooth mean transitions, while fault signals completely lose coherent patterns and show erratic, broadband noise characteristics\n",
    "* Normal signal window means shows smooth, gradual transitions following a predictable curve with no erratic jumps or sudden changes, while fault signals shows highly variable and erratic behavior, scattered pattern with no smooth transitions\n",
    "* Normal signals maintain low, consistent standard deviation (~1.0) with isolated spikes, while fault signals show persistently elevated variability (5-15 range) throughout the entire duration\n",
    "\n",
    "#### Window-based statistical features (variance over time, peak detection in sliding windows, and transient burst identification) will be powerful discriminators for fault detection algorithms."
   ]
  },
  {
   "cell_type": "markdown",
   "id": "15558398-7903-4299-97f1-d13f6d8c74fe",
   "metadata": {},
   "source": [
    "### Interactive Plotly visualization for signal exploration"
   ]
  },
  {
   "cell_type": "code",
   "execution_count": null,
   "id": "b4c347a4-a19a-4f57-ad78-e2e26cf77959",
   "metadata": {},
   "outputs": [],
   "source": [
    "# Two Normal and Two Fault Signals\n",
    "signal_ids = ['2871','6457','6760','1027']\n",
    "targets=[]\n",
    "for sig_id in signal_ids:\n",
    "    target = metadata_df[metadata_df['signal_id'] == sig_id]['target'].iloc[0]\n",
    "    targets.append('Fault' if target == 1 else 'Normal')\n",
    "targets"
   ]
  },
  {
   "cell_type": "code",
   "execution_count": null,
   "id": "c2eaa688-034e-4456-8e5b-bf6a39adbbfa",
   "metadata": {},
   "outputs": [],
   "source": [
    "fig = make_subplots(\n",
    "    rows=len(signal_ids), cols=2,\n",
    "    subplot_titles=\n",
    "    [f'{target} Signal {sid} - {domain} Domain' for sid, target in zip(signal_ids, targets) for domain in [\"Time\", \"Frequency\"]],\n",
    "    specs=[[{\"secondary_y\": False}, {\"secondary_y\": False}] for _ in signal_ids]\n",
    ")\n",
    "\n",
    "for i, sig_id in enumerate(signal_ids):\n",
    "    signal_data = signals_df[str(sig_id)]\n",
    "    \n",
    "    # Time domain plot\n",
    "    fig.add_trace(\n",
    "        go.Scatter(x=time_axis, y=signal_data, name=f'Signal {sig_id}',\n",
    "                  line=dict(width=1)),\n",
    "        row=i+1, col=1\n",
    "    )\n",
    "    \n",
    "    # Frequency domain plot\n",
    "    fft_vals = fft(signal_data)\n",
    "    fft_freq = fftfreq(len(signal_data), 1/sampling_rate)\n",
    "    positive_mask = fft_freq > 0\n",
    "    \n",
    "    fig.add_trace(\n",
    "        go.Scatter(x=fft_freq[positive_mask], y=np.abs(fft_vals[positive_mask]),\n",
    "                  name=f'FFT {sig_id}', line=dict(width=1)),\n",
    "        row=i+1, col=2\n",
    "    )\n",
    "    \n",
    "    # Update axis labels\n",
    "    fig.update_xaxes(title_text=\"Time (s)\", row=i+1, col=1)\n",
    "    fig.update_yaxes(title_text=\"Amplitude\", row=i+1, col=1)\n",
    "    fig.update_xaxes(title_text=\"Frequency (Hz)\", row=i+1, col=2, type=\"log\")\n",
    "    fig.update_yaxes(title_text=\"Magnitude\", row=i+1, col=2, type=\"log\")\n",
    "\n",
    "fig.update_layout(height=300*len(signal_ids), title_text=\"Interactive Signal Explorer\")\n",
    "fig.show()"
   ]
  },
  {
   "cell_type": "markdown",
   "id": "ec0b655f-4d7d-4b4f-ac46-88403b35ec88",
   "metadata": {},
   "source": [
    "* Normal signals show smooth, regular patterns with most energy in low frequencies, while fault signals display chaotic behavior with sudden spikes and energy spread across all frequencies.\n",
    "* The fault signals have much higher amplitude variations and irregular patterns compared to the stable, predictable normal signals.\n",
    "* __Amplitude-based features (like peak detection and signal variability) and frequency features (like high-frequency content) could effectively distinguish between healthy and faulty power line conditions__"
   ]
  },
  {
   "cell_type": "markdown",
   "id": "fb846f83-a8b4-48be-a5b1-0a44a24ddb0f",
   "metadata": {},
   "source": [
    "## Key EDA Insights Summary:\n",
    "\n",
    "* Standard deviation was the most discriminative single feature\n",
    "* Peak amplitude values clearly separated normal vs fault signals\n",
    "* High-frequency content was characteristic of faults\n",
    "* Statistical shape measures (skewness, kurtosis) showed good separation\n",
    "* Time-based variability patterns were distinctive\n",
    "* Simple threshold-based detection showed promise for real-time applications"
   ]
  },
  {
   "cell_type": "markdown",
   "id": "9bd93181-60f5-491b-a3a2-1e6c4d1ce8a6",
   "metadata": {},
   "source": [
    "### End of Exploratory Data Analysis"
   ]
  }
 ],
 "metadata": {
  "kernelspec": {
   "display_name": "Python 3 (ipykernel)",
   "language": "python",
   "name": "python3"
  },
  "language_info": {
   "codemirror_mode": {
    "name": "ipython",
    "version": 3
   },
   "file_extension": ".py",
   "mimetype": "text/x-python",
   "name": "python",
   "nbconvert_exporter": "python",
   "pygments_lexer": "ipython3",
   "version": "3.13.7"
  }
 },
 "nbformat": 4,
 "nbformat_minor": 5
}
